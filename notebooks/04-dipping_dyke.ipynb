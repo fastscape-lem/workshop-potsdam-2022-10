{
 "cells": [
  {
   "cell_type": "code",
   "execution_count": null,
   "id": "5f1e48b2-1e8d-428d-bf1d-b4cb865bcdfa",
   "metadata": {},
   "outputs": [],
   "source": [
    "import numpy as np\n",
    "import xsimlab as xs\n",
    "import matplotlib.pyplot as plt\n",
    "import fastscape\n",
    "\n",
    "%matplotlib inline\n",
    "%load_ext xsimlab.ipython"
   ]
  },
  {
   "cell_type": "code",
   "execution_count": null,
   "id": "d2a181ba-4c18-4094-8b87-fc88fdf2f8d8",
   "metadata": {},
   "outputs": [],
   "source": [
    "print('xarray-simlab version: ', xs.__version__)\n",
    "print('fastscape version: ', fastscape.__version__)"
   ]
  },
  {
   "cell_type": "markdown",
   "id": "b6a7aedd-aa11-4d95-b4ac-fea656b7f1c3",
   "metadata": {},
   "source": [
    "In this notebook, we will modify the fastscape basic_model to make the erodibility and diffusivity of a dipping dyke harder (twice lower). For this we need to develop a new process that, first, describes the dyke geometry, second, tracks its horizontal position as a function of total erosion and, third, modifies the erodibility and diffusivity accordingly.\n",
    "\n",
    "This process must have as inputs:\n",
    "- the geometry of the problem/mesh \n",
    "- the total erosion at time t\n",
    "\n",
    "and as output:\n",
    "- updated values for the erodibility, $K_f$ and diffusivity, $k_d$\n",
    "\n",
    "as well as internal parameters, including the dyke's:\n",
    "- initial position\n",
    "- dip\n",
    "- width "
   ]
  },
  {
   "cell_type": "markdown",
   "id": "75ce4a61-145e-4e0b-b49a-b5839fa498fc",
   "metadata": {},
   "source": [
    "<center><img src=\"assets/DippingDyke.jpg\" width=500>"
   ]
  },
  {
   "cell_type": "code",
   "execution_count": null,
   "id": "45a29eae-5041-47af-a9ef-fed80de9908c",
   "metadata": {},
   "outputs": [],
   "source": [
    "from fastscape.models import basic_model\n",
    "basic_model"
   ]
  },
  {
   "cell_type": "code",
   "execution_count": null,
   "id": "de7fca66-daad-45d7-9c3f-47f62e400567",
   "metadata": {},
   "outputs": [],
   "source": [
    "basic_model.erosion"
   ]
  },
  {
   "cell_type": "code",
   "execution_count": null,
   "id": "958e7260-154d-425f-9c57-c43e14193ad8",
   "metadata": {},
   "outputs": [],
   "source": []
  }
 ],
 "metadata": {
  "kernelspec": {
   "display_name": "Python 3 (ipykernel)",
   "language": "python",
   "name": "python3"
  },
  "language_info": {
   "codemirror_mode": {
    "name": "ipython",
    "version": 3
   },
   "file_extension": ".py",
   "mimetype": "text/x-python",
   "name": "python",
   "nbconvert_exporter": "python",
   "pygments_lexer": "ipython3",
   "version": "3.10.6"
  }
 },
 "nbformat": 4,
 "nbformat_minor": 5
}
