{
 "cells": [
  {
   "cell_type": "markdown",
   "id": "a11975c9-c9cb-4d86-9531-947dd0a8c96e",
   "metadata": {},
   "source": [
    "Let's try to move a simple model for hillslope (linear) diffusion into the framework. We will start with the following very simple explicit, finite difference model where the equation:\n",
    "$$\\frac{\\partial z}{\\partial t} = K_d\\frac{\\partial^2 z}{\\partial x^2}$$\n",
    "with the following boundary conditions:\n",
    "$$z(0)=0$$ and $$\\frac{\\partial z}{\\partial x}(L)=0$$\n",
    "and initial condition:\n",
    "$$z(t=0)=0$$\n",
    "is solved by discretizing the space between $0$ and $L$ into $n_x$ equal increments of size $\\Delta x = L/(nx-1)$ and the time between $0$ and $t_f$ is discretized into time steps of length $\\Delta t$ to yield the following algorithm:\n",
    "$$z_i(t+\\Delta t) = z_i(t) + \\frac{K_d\\Delta t}{\\Delta x^2}\\Bigl(z_{i+1}(t)-2z_i(t)+z_{i-1}(t)\\Bigr)$$\n",
    "\n",
    "We will use the following values for the model parameters: $K_d=0.01$ m$^2$/yr, $n_1=21$, $L=100$ m, and $\\Delta t=1000$ years. We will compute the solution at $t_f=500,000$ years."
   ]
  },
  {
   "cell_type": "code",
   "execution_count": null,
   "id": "6a78228e-d5ff-44a0-9cec-61cb479783a0",
   "metadata": {},
   "outputs": [],
   "source": [
    "import numpy as np\n",
    "import matplotlib.pyplot as plt"
   ]
  },
  {
   "cell_type": "code",
   "execution_count": null,
   "id": "d5942a6b-4224-48cf-8fdb-abd72dca62cd",
   "metadata": {},
   "outputs": [],
   "source": [
    "kd = 0.01\n",
    "nx = 21\n",
    "z = np.linspace(0,50,nx)\n",
    "L = 100\n",
    "dx = L/(nx - 1)\n",
    "dt = 1000\n",
    "nstep = 501\n",
    "\n",
    "for istep in range(nstep):\n",
    "    z[1:-1] = z[1:-1] + kd*dt/dx**2*(z[:-2] - 2*z[1:-1] + z[2:])\n",
    "    z[-1] = z[-2]\n",
    "    if istep%100==0: plt.plot(z)\n",
    "    \n"
   ]
  },
  {
   "cell_type": "markdown",
   "id": "1a1b2d1b-00ad-4f37-ad52-5eb125883628",
   "metadata": {},
   "source": [
    "Let's import this model into the xarray simlab framework"
   ]
  },
  {
   "cell_type": "code",
   "execution_count": null,
   "id": "b669d1fa-7abc-4b25-b032-033775a7062e",
   "metadata": {},
   "outputs": [],
   "source": [
    "import xsimlab as xs\n",
    "import xarray as xr\n"
   ]
  },
  {
   "cell_type": "markdown",
   "id": "955305be-c36d-465c-a17c-4cd7404ad40e",
   "metadata": {},
   "source": [
    "For this we create a simple process that only has internal variables that correspond to the model parameters and can be specified as input parameters"
   ]
  },
  {
   "cell_type": "code",
   "execution_count": null,
   "id": "93bd0629-44e8-4fcc-ad9a-5c2e534bd6be",
   "metadata": {},
   "outputs": [],
   "source": []
  },
  {
   "cell_type": "markdown",
   "id": "65afcede-a6cb-499c-972e-b05a320b329f",
   "metadata": {},
   "source": [
    "We now include some basic information by associating values/fields to the variables, like a short description or units"
   ]
  },
  {
   "cell_type": "code",
   "execution_count": null,
   "id": "ba88ae9d-2404-4ebe-8d58-fd2324ac94ef",
   "metadata": {},
   "outputs": [],
   "source": []
  },
  {
   "cell_type": "markdown",
   "id": "f86fc469-de79-40c4-9e13-c91419047250",
   "metadata": {},
   "source": [
    "Let's now introduce a second process that will prepare a initial topography made of a planar surface of known dip discretized using $n_x$ points"
   ]
  },
  {
   "cell_type": "code",
   "execution_count": null,
   "id": "29705cb6-fe7d-42a4-ac62-276c434af085",
   "metadata": {},
   "outputs": [],
   "source": []
  }
 ],
 "metadata": {
  "kernelspec": {
   "display_name": "Python [conda env:xsimlab]",
   "language": "python",
   "name": "conda-env-xsimlab-py"
  },
  "language_info": {
   "codemirror_mode": {
    "name": "ipython",
    "version": 3
   },
   "file_extension": ".py",
   "mimetype": "text/x-python",
   "name": "python",
   "nbconvert_exporter": "python",
   "pygments_lexer": "ipython3",
   "version": "3.8.13"
  }
 },
 "nbformat": 4,
 "nbformat_minor": 5
}
